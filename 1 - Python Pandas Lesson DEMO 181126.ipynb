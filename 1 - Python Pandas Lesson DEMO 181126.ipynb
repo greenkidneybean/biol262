{
 "cells": [
  {
   "cell_type": "markdown",
   "metadata": {},
   "source": [
    "# Data Analysis with Python and Pandas\n",
    "## Michael Chambers - Nov. 26th, 2018\n",
    "**Goal**: Exposure to Python and Pandas for Data Analysis  \n",
    "\n",
    "![example image](figs/flu.png)\n",
    "\n",
    "**Objectives**:  \n",
    "- Overview of basic Python syntax and how to use Jupyter Notebooks (will be used in both lessons for the day)  \n",
    "- Work through a basic workflow using a CDC dataset (load, clean, manipulate, visualize, save)  \n",
    "- Exercise: apply the same workflow to a different question in the CDC dataset  \n",
    "\n",
    "**Recommended Prior Reading Assignment**: [Intro to Pandas for Excel Super Users – Joan Wang](https://towardsdatascience.com/intro-to-pandas-for-excel-super-users-dac1b38f12b0)  \n",
    "\n",
    "Additional Resources:\n",
    "- [Download Anaconda](https://www.anaconda.com/download/#macos)\n",
    "- [Python DataScience Handbook – Jake VanderPlas](https://github.com/jakevdp/PythonDataScienceHandbook)\n",
    "- [Reproducible Data Analysis Videos – Jake VanderPlas](https://www.youtube.com/watch?v=_ZEWDGpM-vM&list=PLYCpMb24GpOC704uO9svUrihl-HY1tTJJ)  \n",
    "- [19 Essential Snippets in Pandas – Jeff Delaney](https://jeffdelaney.me/blog/useful-snippets-in-pandas/)\n",
    "- [Merge and Join DataFrames with Pandas in Python – Shane Lynn](https://www.shanelynn.ie/merge-join-dataframes-python-pandas-index-1/)"
   ]
  },
  {
   "cell_type": "code",
   "execution_count": null,
   "metadata": {},
   "outputs": [],
   "source": [
    "# show example image of data at top"
   ]
  },
  {
   "cell_type": "markdown",
   "metadata": {},
   "source": [
    "# Python 🐍 \n",
    "![xkdc](https://imgs.xkcd.com/comics/python.png)"
   ]
  },
  {
   "cell_type": "code",
   "execution_count": null,
   "metadata": {},
   "outputs": [],
   "source": [
    "import this"
   ]
  },
  {
   "cell_type": "markdown",
   "metadata": {},
   "source": [
    "# Jupyter Notebooks 📓\n",
    "---\n",
    "* Incredible resource and tool for data science\n",
    "* Offers a reproducible environment that tells a story\n",
    "* It's also a great sandbox environment to learn Python"
   ]
  },
  {
   "cell_type": "markdown",
   "metadata": {},
   "source": [
    "### A quick note about cell types in Jupyter"
   ]
  },
  {
   "cell_type": "markdown",
   "metadata": {},
   "source": [
    "print('this is not a coding cell')"
   ]
  },
  {
   "cell_type": "code",
   "execution_count": null,
   "metadata": {},
   "outputs": [],
   "source": [
    "print('this is a coding cell')"
   ]
  },
  {
   "cell_type": "code",
   "execution_count": null,
   "metadata": {},
   "outputs": [],
   "source": [
    "# run a code cell: 2 + 2\n"
   ]
  },
  {
   "cell_type": "code",
   "execution_count": null,
   "metadata": {},
   "outputs": [],
   "source": [
    "# we can create a variable called \"x\"\n"
   ]
  },
  {
   "cell_type": "code",
   "execution_count": null,
   "metadata": {},
   "outputs": [],
   "source": [
    "# that variable refers to the object we set it to\n"
   ]
  },
  {
   "cell_type": "code",
   "execution_count": null,
   "metadata": {},
   "outputs": [],
   "source": [
    "# we can use functions to manipulate our objects\n",
    "# \"print()\" is a built-in python function\n"
   ]
  },
  {
   "cell_type": "markdown",
   "metadata": {},
   "source": [
    "### Supercharging Python with Packages\n",
    "As soon as you start up a python session you instantly have access to [~70 functions](https://docs.python.org/3/library/functions.html).  If we want to do something specific with our object that goes beyone the scope of the built-in functions we are presented with three options:  \n",
    "1. Sit and cry\n",
    "2. Define our own functions (that's a bit out of scope for this lesson)\n",
    "3. Use packages!\n",
    "\n",
    "**Packages** (or libraries) are collections of functions that other folks have already written.  This is a huge component of why python is an incredible programing language, chances are someone's already written something that you can use.\n",
    "\n",
    "Before we can start using functions provided by packages we first have to import the package."
   ]
  },
  {
   "cell_type": "markdown",
   "metadata": {},
   "source": [
    "# Pandas 🐼\n",
    "---\n",
    "### [Legend has it...](https://qz.com/1126615/the-story-of-the-most-important-tool-in-data-science/)\n",
    "\n",
    "Pandas was develped by Wes McKinney (from Akron, Ohio!!!). Math guy from MIT that went into finance, found that the problem with hedge fund management was dealing with the data (sourcing new data, merging it with the old, and cleaning it all up to optimize the input). He got bummed out with Excel and R but was smitten with Python, though he realized there was no robust package for data analysis. So he built Pandas in 2008 and released the project to the public in 2009.\n",
    "\n",
    "Here's where it get's crazy, he left the world if finance to pursue a PhD in statistics at Duke, thus dropping Pandas development. During that period he realized Python as a language could explode as a statistical computing language, it had the potential, but was still missing robust packages. So he dropped out to push Pandas to become the a cornerstone of the Python scientific ecosystem.\n",
    "\n",
    "And he put all his tips and tricks for Pandas into a book: Python for [Data Data Analysis](https://github.com/wesm/pydata-book)\n",
    "\n",
    "### What is Pandas?\n",
    "\n",
    "\"[Pandas] enables people to analyze and work with data who are not expert computer scientists. You still have to write code, but it's making the code intuitive and accessible. It helps people move beyond just using Excel for data analysis.\" ~Wes\n",
    "\n",
    "- The go-to data analysis library for Python\n",
    "    - Import and wrangle your raw data\n",
    "    - Manipulate and visualize\n",
    "- Allows for mixed data types in the same array\n",
    "\n",
    "The DataFrame is your friend!\n",
    "\n",
    "- Two primary object types used in Pandas:\n",
    "    - DataFrames - like an Excel spreadsheet\n",
    "    - Series - like a single column in a spreadsheet\n",
    "- DataFrames are the primary object used in Pandas (it's like an Excel sheet)\n",
    "- Each DataFrame has:\n",
    "    - columns: the variables being measured\n",
    "    - rows: the observations being made\n",
    "    - index: maintains the order of the rows"
   ]
  },
  {
   "cell_type": "code",
   "execution_count": null,
   "metadata": {},
   "outputs": [],
   "source": [
    "# how to import a package \n",
    "# note: \"pd\" is an abbreviation that allows us to access the functions provided in the package\n",
    "# you will find that many popular python packages have conventional abbreviations when imported\n"
   ]
  },
  {
   "cell_type": "markdown",
   "metadata": {},
   "source": [
    "### Our dataset...\n",
    "We'll be examining some CDC influznea surveillence data from 2008-2018, which was sourced from the [CDC FluView website](https://gis.cdc.gov/grasp/fluview/fluportaldashboard.html).  What we're interested in are the influenza-like-illness cases per week (\"ILITOTAL\")."
   ]
  },
  {
   "cell_type": "code",
   "execution_count": null,
   "metadata": {},
   "outputs": [],
   "source": [
    "# import the data we'll be using\n",
    "# note: the path to the data is relative to the Jupyter notebook location: ILINet.csv\n"
   ]
  },
  {
   "cell_type": "code",
   "execution_count": null,
   "metadata": {},
   "outputs": [],
   "source": [
    "# there are a few functions we can use to quickly get a feel for the dataset\n",
    "# the \"head()\" function will show us the first 5 rows of our dataframe\n"
   ]
  },
  {
   "cell_type": "markdown",
   "metadata": {},
   "source": [
    "### Some functions to try:\n",
    "```\n",
    "df.shape\n",
    "df.info()\n",
    "df.describe()\n",
    "df.columns\n",
    "df.head()\n",
    "df.tail()\n",
    "df.sample(10)\n",
    "```\n",
    "Note: some of these commands end with a parenthesis, others do not.  Those without parenthesis are attributes of the object, those with parenthesis are a function."
   ]
  },
  {
   "cell_type": "code",
   "execution_count": null,
   "metadata": {},
   "outputs": [],
   "source": [
    "# scratch space\n"
   ]
  },
  {
   "cell_type": "code",
   "execution_count": null,
   "metadata": {},
   "outputs": [],
   "source": [
    "# df.shape"
   ]
  },
  {
   "cell_type": "code",
   "execution_count": null,
   "metadata": {},
   "outputs": [],
   "source": [
    "# df.info()"
   ]
  },
  {
   "cell_type": "code",
   "execution_count": null,
   "metadata": {},
   "outputs": [],
   "source": [
    "# df.describe()"
   ]
  },
  {
   "cell_type": "code",
   "execution_count": null,
   "metadata": {},
   "outputs": [],
   "source": [
    "# df.columns"
   ]
  },
  {
   "cell_type": "code",
   "execution_count": null,
   "metadata": {},
   "outputs": [],
   "source": [
    "# df.head()"
   ]
  },
  {
   "cell_type": "code",
   "execution_count": null,
   "metadata": {},
   "outputs": [],
   "source": [
    "# df.tail()"
   ]
  },
  {
   "cell_type": "code",
   "execution_count": null,
   "metadata": {},
   "outputs": [],
   "source": [
    "# df.sample(10)"
   ]
  },
  {
   "cell_type": "markdown",
   "metadata": {},
   "source": [
    "### Quick Exercise\n",
    "- How many entries of data do we have (number of observations)?\n",
    "- How many columns do we have (number of variables)?\n",
    "- Any first impression on what we may have to clean in this dataset?"
   ]
  },
  {
   "cell_type": "code",
   "execution_count": null,
   "metadata": {},
   "outputs": [],
   "source": [
    "# scratch space\n"
   ]
  },
  {
   "cell_type": "code",
   "execution_count": null,
   "metadata": {},
   "outputs": [],
   "source": [
    "# df.shape"
   ]
  },
  {
   "cell_type": "code",
   "execution_count": null,
   "metadata": {},
   "outputs": [],
   "source": [
    "# len(df)"
   ]
  },
  {
   "cell_type": "code",
   "execution_count": null,
   "metadata": {},
   "outputs": [],
   "source": [
    "# len(df.columns)"
   ]
  },
  {
   "cell_type": "code",
   "execution_count": null,
   "metadata": {},
   "outputs": [],
   "source": [
    "# len(df.index)"
   ]
  },
  {
   "cell_type": "markdown",
   "metadata": {},
   "source": [
    "### Basic Data Cleanup\n",
    "For now lets narrow down this dataset to some simple components:\n",
    "- REGION\n",
    "- YEAR\n",
    "- WEEK\n",
    "- ILITOTAL"
   ]
  },
  {
   "cell_type": "code",
   "execution_count": null,
   "metadata": {},
   "outputs": [],
   "source": [
    "# we'll select just those columns and create new dataframe\n",
    "# df1 = df[['YEAR', 'WEEK','REGION','ILITOTAL']]"
   ]
  },
  {
   "cell_type": "code",
   "execution_count": null,
   "metadata": {},
   "outputs": [],
   "source": [
    "# let's check the summary of our new dataframe using the \"info()\" function\n",
    "# df1.info()"
   ]
  },
  {
   "cell_type": "markdown",
   "metadata": {},
   "source": [
    "Note that our \"ILITOTAL\" variable is an 'object' type, not an integer ('int64').  This means that there are some string values in this column that we should clean up."
   ]
  },
  {
   "cell_type": "code",
   "execution_count": null,
   "metadata": {},
   "outputs": [],
   "source": [
    "# let's take a closer look at our new dataframe\n",
    "# df1.head(10)"
   ]
  },
  {
   "cell_type": "code",
   "execution_count": null,
   "metadata": {},
   "outputs": [],
   "source": [
    "# note that in row 9 we have a value of \"X\" for 'ILITOTAL'\n",
    "# lets replace all the \"X\" values in 'ILITOTAL' with a null placeholder\n",
    "# to do this we're going to import another pachage called NumPy\n",
    "# import numpy as np\n",
    "# df1['ILITOTAL'].replace('X', np.nan, inplace=True)"
   ]
  },
  {
   "cell_type": "code",
   "execution_count": null,
   "metadata": {},
   "outputs": [],
   "source": [
    "# and we'll check the top 10 lines to see if \"X\" was replaced\n",
    "# df1.head(10)"
   ]
  },
  {
   "cell_type": "code",
   "execution_count": null,
   "metadata": {},
   "outputs": [],
   "source": [
    "# but what about the column type?\n",
    "# df1.info()"
   ]
  },
  {
   "cell_type": "code",
   "execution_count": null,
   "metadata": {},
   "outputs": [],
   "source": [
    "# df1['ILITOTAL'] = df1['ILITOTAL'].astype('float')"
   ]
  },
  {
   "cell_type": "code",
   "execution_count": null,
   "metadata": {},
   "outputs": [],
   "source": [
    "# now lets recheck the info for our dataframe\n",
    "# note: 'ILITOTAL' is now a float object ('float64')\n",
    "# df1.info()"
   ]
  },
  {
   "cell_type": "code",
   "execution_count": null,
   "metadata": {},
   "outputs": [],
   "source": [
    "# lets try the \"describe()\" function again\n",
    "# note: we now have summary states for 'ILITOTAL'\n",
    "# df1.describe()"
   ]
  },
  {
   "cell_type": "code",
   "execution_count": null,
   "metadata": {},
   "outputs": [],
   "source": [
    "# one more safetey check, is this just for the 50 US states?\n",
    "# df1['REGION'].nunique()"
   ]
  },
  {
   "cell_type": "code",
   "execution_count": null,
   "metadata": {},
   "outputs": [],
   "source": [
    "# view a unique listing of regions in the dataframe\n",
    "# df1['REGION'].unique().tolist()"
   ]
  },
  {
   "cell_type": "markdown",
   "metadata": {},
   "source": [
    "### Data Visualization\n",
    "Now that we have simplified our dataset lets make some figures!"
   ]
  },
  {
   "cell_type": "code",
   "execution_count": null,
   "metadata": {},
   "outputs": [],
   "source": [
    "import matplotlib.pyplot as plt\n",
    "import seaborn as sns\n",
    "plt.style.use('seaborn')\n",
    "%matplotlib inline"
   ]
  },
  {
   "cell_type": "code",
   "execution_count": null,
   "metadata": {},
   "outputs": [],
   "source": [
    "# getting a quick glimpse with the plot() function\n",
    "df1.plot()"
   ]
  },
  {
   "cell_type": "code",
   "execution_count": null,
   "metadata": {},
   "outputs": [],
   "source": [
    "# generate a histogram for the ILI case count\n",
    "df1['ILITOTAL'].hist(bins=100)"
   ]
  },
  {
   "cell_type": "code",
   "execution_count": null,
   "metadata": {},
   "outputs": [],
   "source": [
    "# generate a boxplot for the ILI case count\n",
    "df1.boxplot('ILITOTAL')"
   ]
  },
  {
   "cell_type": "code",
   "execution_count": null,
   "metadata": {},
   "outputs": [],
   "source": [
    "# saving a figure\n",
    "plt = df1.boxplot('ILITOTAL')\n",
    "plt.set_title('Range of ILI Cases per Week')\n",
    "plt.set_ylabel('# if ILI Cases per Week')\n",
    "fig = plt.get_figure()\n",
    "fig.savefig('figs/fig1.png')"
   ]
  },
  {
   "cell_type": "markdown",
   "metadata": {},
   "source": [
    "Seaborn is an alternative package that works very well with Pandas dataframes to generate figures, check out the Seaborn [example gallery](https://seaborn.pydata.org/examples/index.html) for some inspiration."
   ]
  },
  {
   "cell_type": "code",
   "execution_count": null,
   "metadata": {},
   "outputs": [],
   "source": [
    "# making a seaborn lineplot (sns.lineplot())\n",
    "# lets view the incidence of influenza cases over weeks for each state\n",
    "sns.lineplot(x=\"WEEK\", y=\"ILITOTAL\",\n",
    "             hue=\"REGION\",\n",
    "             data=df1)"
   ]
  },
  {
   "cell_type": "code",
   "execution_count": null,
   "metadata": {},
   "outputs": [],
   "source": [
    "# lets view the incidence of influenza cases over weeks for a single\n",
    "sns.lineplot(x=\"WEEK\", y=\"ILITOTAL\",\n",
    "             hue=\"REGION\",\n",
    "             data=df1.query('REGION == \"Maryland\"'))"
   ]
  },
  {
   "cell_type": "code",
   "execution_count": null,
   "metadata": {},
   "outputs": [],
   "source": [
    "# lets view the incidence of influenza cases over weeks for a list of regions/states\n",
    "extra_regions = ['District of Columbia','Maryland','Virginia']\n",
    "sns.lineplot(x=\"WEEK\", y=\"ILITOTAL\",\n",
    "             hue=\"REGION\",\n",
    "             data=df1.query(f'REGION == {extra_regions}'))"
   ]
  },
  {
   "cell_type": "code",
   "execution_count": null,
   "metadata": {},
   "outputs": [],
   "source": [
    "# saving a seaborn plot by making a pointer and using get_figure()\n",
    "sns_plt = sns.lineplot(x=\"WEEK\", y=\"ILITOTAL\",\n",
    "             hue=\"REGION\",\n",
    "             data=df1.query('REGION == \"Maryland\"'))\n",
    "fig = sns_plt.get_figure()\n",
    "fig.savefig('figs/fig2.png')"
   ]
  },
  {
   "cell_type": "code",
   "execution_count": null,
   "metadata": {},
   "outputs": [],
   "source": [
    "# bringing it all together to make the example image at the top\n",
    "regions = ['Maryland','Virginia','District of Columbia']\n",
    "\n",
    "sns_plt = sns.lineplot(x=\"WEEK\", y=\"ILITOTAL\",\n",
    "             hue=\"REGION\",\n",
    "             data=df1.query(f'REGION == {regions}'))\n",
    "sns_plt.set_title('Influenza-Like Cases from 2014-2018')\n",
    "sns_plt.set_ylabel('Number of Influenza-Like Cases')\n",
    "sns_plt.set_xlabel('Week Number')\n",
    "\n",
    "fig = sns_plt.get_figure()\n",
    "fig.savefig('figs/flu.png')"
   ]
  },
  {
   "cell_type": "code",
   "execution_count": null,
   "metadata": {},
   "outputs": [],
   "source": [
    "# example of a swarm plot using seaborn\n",
    "sns.swarmplot(\n",
    "    x=\"REGION\", \n",
    "    y=\"ILITOTAL\",\n",
    "    data=df1.query(f'REGION == {regions}')\n",
    ")"
   ]
  },
  {
   "cell_type": "code",
   "execution_count": null,
   "metadata": {},
   "outputs": [],
   "source": [
    "# example of a violin plot using seaborn\n",
    "sns.violinplot(x=\"REGION\", y=\"ILITOTAL\",\n",
    "               data=df1.query(f'REGION == {regions}'))"
   ]
  },
  {
   "cell_type": "markdown",
   "metadata": {},
   "source": [
    "# Final Notes\n",
    "![xkcd](https://imgs.xkcd.com/comics/is_it_worth_the_time_2x.png)"
   ]
  }
 ],
 "metadata": {
  "kernelspec": {
   "display_name": "Python 3",
   "language": "python",
   "name": "python3"
  },
  "language_info": {
   "codemirror_mode": {
    "name": "ipython",
    "version": 3
   },
   "file_extension": ".py",
   "mimetype": "text/x-python",
   "name": "python",
   "nbconvert_exporter": "python",
   "pygments_lexer": "ipython3",
   "version": "3.6.5"
  }
 },
 "nbformat": 4,
 "nbformat_minor": 2
}
