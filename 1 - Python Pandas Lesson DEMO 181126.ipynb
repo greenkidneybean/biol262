{
 "cells": [
  {
   "cell_type": "markdown",
   "metadata": {},
   "source": [
    "# Data Analysis with Python and Pandas\n",
    "## Michael Chambers - Nov. 26th, 2018\n",
    "**Goal**: Exposure to Python and Pandas for Data Analysis  \n",
    "\n",
    "![example image](figs/flu.png)\n",
    "\n",
    "**Objectives**:  \n",
    "- Overview of basic Python syntax and how to use Jupyter Notebooks (will be used in both lessons for the day)  \n",
    "- Work through a basic workflow using a CDC dataset (load, clean, manipulate, visualize, save)  \n",
    "- Exercise: apply the same workflow to a different question in the CDC dataset  \n",
    "\n",
    "**Recommended Prior Reading Assignment**: [Intro to Pandas for Excel Super Users – Joan Wang](https://towardsdatascience.com/intro-to-pandas-for-excel-super-users-dac1b38f12b0)  \n",
    "\n",
    "Additional Resources:\n",
    "- [Download Anaconda](https://www.anaconda.com/download/#macos)\n",
    "- [Python DataScience Handbook – Jake VanderPlas](https://github.com/jakevdp/PythonDataScienceHandbook)\n",
    "- [Reproducible Data Analysis Videos – Jake VanderPlas](https://www.youtube.com/watch?v=_ZEWDGpM-vM&list=PLYCpMb24GpOC704uO9svUrihl-HY1tTJJ)  \n",
    "- [19 Essential Snippets in Pandas – Jeff Delaney](https://jeffdelaney.me/blog/useful-snippets-in-pandas/)\n",
    "- [Merge and Join DataFrames with Pandas in Python – Shane Lynn](https://www.shanelynn.ie/merge-join-dataframes-python-pandas-index-1/)"
   ]
  },
  {
   "cell_type": "code",
   "execution_count": 1,
   "metadata": {},
   "outputs": [],
   "source": [
    "# show example image of data at top"
   ]
  },
  {
   "cell_type": "markdown",
   "metadata": {},
   "source": [
    "# Python 🐍 \n",
    "![xkdc](https://imgs.xkcd.com/comics/python.png)"
   ]
  },
  {
   "cell_type": "code",
   "execution_count": 2,
   "metadata": {},
   "outputs": [
    {
     "name": "stdout",
     "output_type": "stream",
     "text": [
      "The Zen of Python, by Tim Peters\n",
      "\n",
      "Beautiful is better than ugly.\n",
      "Explicit is better than implicit.\n",
      "Simple is better than complex.\n",
      "Complex is better than complicated.\n",
      "Flat is better than nested.\n",
      "Sparse is better than dense.\n",
      "Readability counts.\n",
      "Special cases aren't special enough to break the rules.\n",
      "Although practicality beats purity.\n",
      "Errors should never pass silently.\n",
      "Unless explicitly silenced.\n",
      "In the face of ambiguity, refuse the temptation to guess.\n",
      "There should be one-- and preferably only one --obvious way to do it.\n",
      "Although that way may not be obvious at first unless you're Dutch.\n",
      "Now is better than never.\n",
      "Although never is often better than *right* now.\n",
      "If the implementation is hard to explain, it's a bad idea.\n",
      "If the implementation is easy to explain, it may be a good idea.\n",
      "Namespaces are one honking great idea -- let's do more of those!\n"
     ]
    }
   ],
   "source": [
    "import this"
   ]
  },
  {
   "cell_type": "markdown",
   "metadata": {},
   "source": [
    "# Jupyter Notebooks 📓\n",
    "---\n",
    "* Incredible resource and tool for data science\n",
    "* Offers a reproducible environment that tells a story\n",
    "* It's also a great sandbox environment to learn Python"
   ]
  },
  {
   "cell_type": "markdown",
   "metadata": {},
   "source": [
    "### A quick note about cell types in Jupyter"
   ]
  },
  {
   "cell_type": "markdown",
   "metadata": {},
   "source": [
    "print('this is not a coding cell')"
   ]
  },
  {
   "cell_type": "code",
   "execution_count": 3,
   "metadata": {},
   "outputs": [
    {
     "name": "stdout",
     "output_type": "stream",
     "text": [
      "this is a coding cell\n"
     ]
    }
   ],
   "source": [
    "print('this is a coding cell')"
   ]
  },
  {
   "cell_type": "code",
   "execution_count": 4,
   "metadata": {},
   "outputs": [
    {
     "data": {
      "text/plain": [
       "4"
      ]
     },
     "execution_count": 4,
     "metadata": {},
     "output_type": "execute_result"
    }
   ],
   "source": [
    "# run a code cell\n",
    "2 + 2"
   ]
  },
  {
   "cell_type": "code",
   "execution_count": 5,
   "metadata": {},
   "outputs": [],
   "source": [
    "# we can create a variable called \"x\"\n",
    "x = 2 + 2"
   ]
  },
  {
   "cell_type": "code",
   "execution_count": 6,
   "metadata": {},
   "outputs": [
    {
     "data": {
      "text/plain": [
       "4"
      ]
     },
     "execution_count": 6,
     "metadata": {},
     "output_type": "execute_result"
    }
   ],
   "source": [
    "# that variable refers to the object we set it to\n",
    "x"
   ]
  },
  {
   "cell_type": "code",
   "execution_count": 7,
   "metadata": {},
   "outputs": [
    {
     "name": "stdout",
     "output_type": "stream",
     "text": [
      "4\n"
     ]
    }
   ],
   "source": [
    "# we can use functions to manipulate our objects\n",
    "# \"print()\" is a built-in python function\n",
    "print(x)"
   ]
  },
  {
   "cell_type": "markdown",
   "metadata": {},
   "source": [
    "### Supercharging Python with Packages\n",
    "As soon as you start up a python session you instantly have access to [~70 functions](https://docs.python.org/3/library/functions.html).  If we want to do something specific with our object that goes beyone the scope of the built-in functions we are presented with three options:  \n",
    "1. Sit and cry\n",
    "2. Define our own functions (that's a bit out of scope for this lesson)\n",
    "3. Use packages!\n",
    "\n",
    "**Packages** (or libraries) are collections of functions that other folks have already written.  This is a huge component of why python is an incredible programing language, chances are someone's already written something that you can use.\n",
    "\n",
    "Before we can start using functions provided by packages we first have to import the package."
   ]
  },
  {
   "cell_type": "markdown",
   "metadata": {},
   "source": [
    "# Pandas 🐼\n",
    "---\n",
    "### [Legend has it...](https://qz.com/1126615/the-story-of-the-most-important-tool-in-data-science/)\n",
    "\n",
    "Pandas was develped by Wes McKinney (from Akron, Ohio!!!). Math guy from MIT that went into finance, found that the problem with hedge fund management was dealing with the data (sourcing new data, merging it with the old, and cleaning it all up to optimize the input). He got bummed out with Excel and R but was smitten with Python, though he realized there was no robust package for data analysis. So he built Pandas in 2008 and released the project to the public in 2009.\n",
    "\n",
    "Here's where it get's crazy, he left the world if finance to pursue a PhD in statistics at Duke, thus dropping Pandas development. During that period he realized Python as a language could explode as a statistical computing language, it had the potential, but was still missing robust packages. So he dropped out to push Pandas to become the a cornerstone of the Python scientific ecosystem.\n",
    "\n",
    "And he put all his tips and tricks for Pandas into a book: Python for [Data Data Analysis](https://github.com/wesm/pydata-book)\n",
    "\n",
    "### What is Pandas?\n",
    "\n",
    "\"[Pandas] enables people to analyze and work with data who are not expert computer scientists. You still have to write code, but it's making the code intuitive and accessible. It helps people move beyond just using Excel for data analysis.\" ~Wes\n",
    "\n",
    "- The go-to data analysis library for Python\n",
    "    - Import and wrangle your raw data\n",
    "    - Manipulate and visualize\n",
    "- Allows for mixed data types in the same array\n",
    "\n",
    "The DataFrame is your friend!\n",
    "\n",
    "- Two primary object types used in Pandas:\n",
    "    - DataFrames - like an Excel spreadsheet\n",
    "    - Series - like a single column in a spreadsheet\n",
    "- DataFrames are the primary object used in Pandas (it's like an Excel sheet)\n",
    "- Each DataFrame has:\n",
    "    - columns: the variables being measured\n",
    "    - rows: the observations being made\n",
    "    - index: maintains the order of the rows"
   ]
  },
  {
   "cell_type": "code",
   "execution_count": 8,
   "metadata": {},
   "outputs": [],
   "source": [
    "# how to import a package \n",
    "# note: \"pd\" is an abbreviation that allows us to access the functions provided in the package\n",
    "# you will find that many popular python packages have conventional abbreviations when imported\n",
    "import pandas as pd"
   ]
  },
  {
   "cell_type": "markdown",
   "metadata": {},
   "source": [
    "### Our dataset...\n",
    "We'll be examining some CDC influznea surveillence data from 2008-2018, which was sourced from the [CDC FluView website](https://gis.cdc.gov/grasp/fluview/fluportaldashboard.html).  What we're interested in are the influenza-like-illness cases per week (\"ILITOTAL\")."
   ]
  },
  {
   "cell_type": "code",
   "execution_count": 9,
   "metadata": {},
   "outputs": [],
   "source": [
    "# import the data we'll be using\n",
    "# note: the path to the data is relative to the Jupyter notebook location\n",
    "df = pd.read_csv('data/ILINet.csv')"
   ]
  },
  {
   "cell_type": "code",
   "execution_count": 10,
   "metadata": {},
   "outputs": [
    {
     "data": {
      "text/html": [
       "<div>\n",
       "<style scoped>\n",
       "    .dataframe tbody tr th:only-of-type {\n",
       "        vertical-align: middle;\n",
       "    }\n",
       "\n",
       "    .dataframe tbody tr th {\n",
       "        vertical-align: top;\n",
       "    }\n",
       "\n",
       "    .dataframe thead th {\n",
       "        text-align: right;\n",
       "    }\n",
       "</style>\n",
       "<table border=\"1\" class=\"dataframe\">\n",
       "  <thead>\n",
       "    <tr style=\"text-align: right;\">\n",
       "      <th></th>\n",
       "      <th>REGION TYPE</th>\n",
       "      <th>REGION</th>\n",
       "      <th>YEAR</th>\n",
       "      <th>WEEK</th>\n",
       "      <th>% WEIGHTED ILI</th>\n",
       "      <th>%UNWEIGHTED ILI</th>\n",
       "      <th>AGE 0-4</th>\n",
       "      <th>AGE 25-49</th>\n",
       "      <th>AGE 25-64</th>\n",
       "      <th>AGE 5-24</th>\n",
       "      <th>AGE 50-64</th>\n",
       "      <th>AGE 65</th>\n",
       "      <th>ILITOTAL</th>\n",
       "      <th>NUM. OF PROVIDERS</th>\n",
       "      <th>TOTAL PATIENTS</th>\n",
       "    </tr>\n",
       "  </thead>\n",
       "  <tbody>\n",
       "    <tr>\n",
       "      <th>0</th>\n",
       "      <td>States</td>\n",
       "      <td>Alabama</td>\n",
       "      <td>2014</td>\n",
       "      <td>40</td>\n",
       "      <td>X</td>\n",
       "      <td>1.73174</td>\n",
       "      <td>X</td>\n",
       "      <td>X</td>\n",
       "      <td>X</td>\n",
       "      <td>X</td>\n",
       "      <td>X</td>\n",
       "      <td>X</td>\n",
       "      <td>220</td>\n",
       "      <td>26</td>\n",
       "      <td>12704</td>\n",
       "    </tr>\n",
       "    <tr>\n",
       "      <th>1</th>\n",
       "      <td>States</td>\n",
       "      <td>Alaska</td>\n",
       "      <td>2014</td>\n",
       "      <td>40</td>\n",
       "      <td>X</td>\n",
       "      <td>0.437445</td>\n",
       "      <td>X</td>\n",
       "      <td>X</td>\n",
       "      <td>X</td>\n",
       "      <td>X</td>\n",
       "      <td>X</td>\n",
       "      <td>X</td>\n",
       "      <td>5</td>\n",
       "      <td>7</td>\n",
       "      <td>1143</td>\n",
       "    </tr>\n",
       "    <tr>\n",
       "      <th>2</th>\n",
       "      <td>States</td>\n",
       "      <td>Arizona</td>\n",
       "      <td>2014</td>\n",
       "      <td>40</td>\n",
       "      <td>X</td>\n",
       "      <td>1.02937</td>\n",
       "      <td>X</td>\n",
       "      <td>X</td>\n",
       "      <td>X</td>\n",
       "      <td>X</td>\n",
       "      <td>X</td>\n",
       "      <td>X</td>\n",
       "      <td>299</td>\n",
       "      <td>59</td>\n",
       "      <td>29047</td>\n",
       "    </tr>\n",
       "    <tr>\n",
       "      <th>3</th>\n",
       "      <td>States</td>\n",
       "      <td>Arkansas</td>\n",
       "      <td>2014</td>\n",
       "      <td>40</td>\n",
       "      <td>X</td>\n",
       "      <td>1.07239</td>\n",
       "      <td>X</td>\n",
       "      <td>X</td>\n",
       "      <td>X</td>\n",
       "      <td>X</td>\n",
       "      <td>X</td>\n",
       "      <td>X</td>\n",
       "      <td>48</td>\n",
       "      <td>17</td>\n",
       "      <td>4476</td>\n",
       "    </tr>\n",
       "    <tr>\n",
       "      <th>4</th>\n",
       "      <td>States</td>\n",
       "      <td>California</td>\n",
       "      <td>2014</td>\n",
       "      <td>40</td>\n",
       "      <td>X</td>\n",
       "      <td>1.9089</td>\n",
       "      <td>X</td>\n",
       "      <td>X</td>\n",
       "      <td>X</td>\n",
       "      <td>X</td>\n",
       "      <td>X</td>\n",
       "      <td>X</td>\n",
       "      <td>831</td>\n",
       "      <td>129</td>\n",
       "      <td>43533</td>\n",
       "    </tr>\n",
       "  </tbody>\n",
       "</table>\n",
       "</div>"
      ],
      "text/plain": [
       "  REGION TYPE      REGION  YEAR  WEEK % WEIGHTED ILI %UNWEIGHTED ILI AGE 0-4  \\\n",
       "0      States     Alabama  2014    40              X         1.73174       X   \n",
       "1      States      Alaska  2014    40              X        0.437445       X   \n",
       "2      States     Arizona  2014    40              X         1.02937       X   \n",
       "3      States    Arkansas  2014    40              X         1.07239       X   \n",
       "4      States  California  2014    40              X          1.9089       X   \n",
       "\n",
       "  AGE 25-49 AGE 25-64 AGE 5-24 AGE 50-64 AGE 65 ILITOTAL NUM. OF PROVIDERS  \\\n",
       "0         X         X        X         X      X      220                26   \n",
       "1         X         X        X         X      X        5                 7   \n",
       "2         X         X        X         X      X      299                59   \n",
       "3         X         X        X         X      X       48                17   \n",
       "4         X         X        X         X      X      831               129   \n",
       "\n",
       "  TOTAL PATIENTS  \n",
       "0          12704  \n",
       "1           1143  \n",
       "2          29047  \n",
       "3           4476  \n",
       "4          43533  "
      ]
     },
     "execution_count": 10,
     "metadata": {},
     "output_type": "execute_result"
    }
   ],
   "source": [
    "# there are a few functions we can use to quickly get a feel for the dataset\n",
    "# the \"head()\" function will show us the first 5 rows of our dataframe\n",
    "df.head()"
   ]
  },
  {
   "cell_type": "markdown",
   "metadata": {},
   "source": [
    "### Some functions to try:\n",
    "```\n",
    "df.shape\n",
    "df.info()\n",
    "df.describe()\n",
    "df.columns\n",
    "df.head()\n",
    "df.tail()\n",
    "df.sample(10)\n",
    "```\n",
    "Note: some of these commands end with a parenthesis, others do not.  Those without parenthesis are attributes of the object, those with parenthesis are a function."
   ]
  },
  {
   "cell_type": "code",
   "execution_count": 11,
   "metadata": {},
   "outputs": [],
   "source": [
    "# scratch space\n"
   ]
  },
  {
   "cell_type": "code",
   "execution_count": 12,
   "metadata": {},
   "outputs": [
    {
     "data": {
      "text/plain": [
       "(11610, 15)"
      ]
     },
     "execution_count": 12,
     "metadata": {},
     "output_type": "execute_result"
    }
   ],
   "source": [
    "df.shape"
   ]
  },
  {
   "cell_type": "code",
   "execution_count": 13,
   "metadata": {},
   "outputs": [
    {
     "name": "stdout",
     "output_type": "stream",
     "text": [
      "<class 'pandas.core.frame.DataFrame'>\n",
      "RangeIndex: 11610 entries, 0 to 11609\n",
      "Data columns (total 15 columns):\n",
      "REGION TYPE          11610 non-null object\n",
      "REGION               11610 non-null object\n",
      "YEAR                 11610 non-null int64\n",
      "WEEK                 11610 non-null int64\n",
      "% WEIGHTED ILI       11610 non-null object\n",
      "%UNWEIGHTED ILI      11610 non-null object\n",
      "AGE 0-4              11610 non-null object\n",
      "AGE 25-49            11610 non-null object\n",
      "AGE 25-64            11610 non-null object\n",
      "AGE 5-24             11610 non-null object\n",
      "AGE 50-64            11610 non-null object\n",
      "AGE 65               11610 non-null object\n",
      "ILITOTAL             11610 non-null object\n",
      "NUM. OF PROVIDERS    11610 non-null object\n",
      "TOTAL PATIENTS       11610 non-null object\n",
      "dtypes: int64(2), object(13)\n",
      "memory usage: 1.3+ MB\n"
     ]
    }
   ],
   "source": [
    "df.info()"
   ]
  },
  {
   "cell_type": "code",
   "execution_count": 14,
   "metadata": {},
   "outputs": [
    {
     "data": {
      "text/html": [
       "<div>\n",
       "<style scoped>\n",
       "    .dataframe tbody tr th:only-of-type {\n",
       "        vertical-align: middle;\n",
       "    }\n",
       "\n",
       "    .dataframe tbody tr th {\n",
       "        vertical-align: top;\n",
       "    }\n",
       "\n",
       "    .dataframe thead th {\n",
       "        text-align: right;\n",
       "    }\n",
       "</style>\n",
       "<table border=\"1\" class=\"dataframe\">\n",
       "  <thead>\n",
       "    <tr style=\"text-align: right;\">\n",
       "      <th></th>\n",
       "      <th>YEAR</th>\n",
       "      <th>WEEK</th>\n",
       "    </tr>\n",
       "  </thead>\n",
       "  <tbody>\n",
       "    <tr>\n",
       "      <th>count</th>\n",
       "      <td>11610.000000</td>\n",
       "      <td>11610.000000</td>\n",
       "    </tr>\n",
       "    <tr>\n",
       "      <th>mean</th>\n",
       "      <td>2016.288372</td>\n",
       "      <td>27.069767</td>\n",
       "    </tr>\n",
       "    <tr>\n",
       "      <th>std</th>\n",
       "      <td>1.224078</td>\n",
       "      <td>15.103084</td>\n",
       "    </tr>\n",
       "    <tr>\n",
       "      <th>min</th>\n",
       "      <td>2014.000000</td>\n",
       "      <td>1.000000</td>\n",
       "    </tr>\n",
       "    <tr>\n",
       "      <th>25%</th>\n",
       "      <td>2015.000000</td>\n",
       "      <td>14.000000</td>\n",
       "    </tr>\n",
       "    <tr>\n",
       "      <th>50%</th>\n",
       "      <td>2016.000000</td>\n",
       "      <td>27.000000</td>\n",
       "    </tr>\n",
       "    <tr>\n",
       "      <th>75%</th>\n",
       "      <td>2017.000000</td>\n",
       "      <td>41.000000</td>\n",
       "    </tr>\n",
       "    <tr>\n",
       "      <th>max</th>\n",
       "      <td>2018.000000</td>\n",
       "      <td>53.000000</td>\n",
       "    </tr>\n",
       "  </tbody>\n",
       "</table>\n",
       "</div>"
      ],
      "text/plain": [
       "               YEAR          WEEK\n",
       "count  11610.000000  11610.000000\n",
       "mean    2016.288372     27.069767\n",
       "std        1.224078     15.103084\n",
       "min     2014.000000      1.000000\n",
       "25%     2015.000000     14.000000\n",
       "50%     2016.000000     27.000000\n",
       "75%     2017.000000     41.000000\n",
       "max     2018.000000     53.000000"
      ]
     },
     "execution_count": 14,
     "metadata": {},
     "output_type": "execute_result"
    }
   ],
   "source": [
    "df.describe()"
   ]
  },
  {
   "cell_type": "code",
   "execution_count": 15,
   "metadata": {},
   "outputs": [
    {
     "data": {
      "text/plain": [
       "Index(['REGION TYPE', 'REGION', 'YEAR', 'WEEK', '% WEIGHTED ILI',\n",
       "       '%UNWEIGHTED ILI', 'AGE 0-4', 'AGE 25-49', 'AGE 25-64', 'AGE 5-24',\n",
       "       'AGE 50-64', 'AGE 65', 'ILITOTAL', 'NUM. OF PROVIDERS',\n",
       "       'TOTAL PATIENTS'],\n",
       "      dtype='object')"
      ]
     },
     "execution_count": 15,
     "metadata": {},
     "output_type": "execute_result"
    }
   ],
   "source": [
    "df.columns"
   ]
  },
  {
   "cell_type": "code",
   "execution_count": 16,
   "metadata": {},
   "outputs": [
    {
     "data": {
      "text/html": [
       "<div>\n",
       "<style scoped>\n",
       "    .dataframe tbody tr th:only-of-type {\n",
       "        vertical-align: middle;\n",
       "    }\n",
       "\n",
       "    .dataframe tbody tr th {\n",
       "        vertical-align: top;\n",
       "    }\n",
       "\n",
       "    .dataframe thead th {\n",
       "        text-align: right;\n",
       "    }\n",
       "</style>\n",
       "<table border=\"1\" class=\"dataframe\">\n",
       "  <thead>\n",
       "    <tr style=\"text-align: right;\">\n",
       "      <th></th>\n",
       "      <th>REGION TYPE</th>\n",
       "      <th>REGION</th>\n",
       "      <th>YEAR</th>\n",
       "      <th>WEEK</th>\n",
       "      <th>% WEIGHTED ILI</th>\n",
       "      <th>%UNWEIGHTED ILI</th>\n",
       "      <th>AGE 0-4</th>\n",
       "      <th>AGE 25-49</th>\n",
       "      <th>AGE 25-64</th>\n",
       "      <th>AGE 5-24</th>\n",
       "      <th>AGE 50-64</th>\n",
       "      <th>AGE 65</th>\n",
       "      <th>ILITOTAL</th>\n",
       "      <th>NUM. OF PROVIDERS</th>\n",
       "      <th>TOTAL PATIENTS</th>\n",
       "    </tr>\n",
       "  </thead>\n",
       "  <tbody>\n",
       "    <tr>\n",
       "      <th>0</th>\n",
       "      <td>States</td>\n",
       "      <td>Alabama</td>\n",
       "      <td>2014</td>\n",
       "      <td>40</td>\n",
       "      <td>X</td>\n",
       "      <td>1.73174</td>\n",
       "      <td>X</td>\n",
       "      <td>X</td>\n",
       "      <td>X</td>\n",
       "      <td>X</td>\n",
       "      <td>X</td>\n",
       "      <td>X</td>\n",
       "      <td>220</td>\n",
       "      <td>26</td>\n",
       "      <td>12704</td>\n",
       "    </tr>\n",
       "    <tr>\n",
       "      <th>1</th>\n",
       "      <td>States</td>\n",
       "      <td>Alaska</td>\n",
       "      <td>2014</td>\n",
       "      <td>40</td>\n",
       "      <td>X</td>\n",
       "      <td>0.437445</td>\n",
       "      <td>X</td>\n",
       "      <td>X</td>\n",
       "      <td>X</td>\n",
       "      <td>X</td>\n",
       "      <td>X</td>\n",
       "      <td>X</td>\n",
       "      <td>5</td>\n",
       "      <td>7</td>\n",
       "      <td>1143</td>\n",
       "    </tr>\n",
       "    <tr>\n",
       "      <th>2</th>\n",
       "      <td>States</td>\n",
       "      <td>Arizona</td>\n",
       "      <td>2014</td>\n",
       "      <td>40</td>\n",
       "      <td>X</td>\n",
       "      <td>1.02937</td>\n",
       "      <td>X</td>\n",
       "      <td>X</td>\n",
       "      <td>X</td>\n",
       "      <td>X</td>\n",
       "      <td>X</td>\n",
       "      <td>X</td>\n",
       "      <td>299</td>\n",
       "      <td>59</td>\n",
       "      <td>29047</td>\n",
       "    </tr>\n",
       "    <tr>\n",
       "      <th>3</th>\n",
       "      <td>States</td>\n",
       "      <td>Arkansas</td>\n",
       "      <td>2014</td>\n",
       "      <td>40</td>\n",
       "      <td>X</td>\n",
       "      <td>1.07239</td>\n",
       "      <td>X</td>\n",
       "      <td>X</td>\n",
       "      <td>X</td>\n",
       "      <td>X</td>\n",
       "      <td>X</td>\n",
       "      <td>X</td>\n",
       "      <td>48</td>\n",
       "      <td>17</td>\n",
       "      <td>4476</td>\n",
       "    </tr>\n",
       "    <tr>\n",
       "      <th>4</th>\n",
       "      <td>States</td>\n",
       "      <td>California</td>\n",
       "      <td>2014</td>\n",
       "      <td>40</td>\n",
       "      <td>X</td>\n",
       "      <td>1.9089</td>\n",
       "      <td>X</td>\n",
       "      <td>X</td>\n",
       "      <td>X</td>\n",
       "      <td>X</td>\n",
       "      <td>X</td>\n",
       "      <td>X</td>\n",
       "      <td>831</td>\n",
       "      <td>129</td>\n",
       "      <td>43533</td>\n",
       "    </tr>\n",
       "  </tbody>\n",
       "</table>\n",
       "</div>"
      ],
      "text/plain": [
       "  REGION TYPE      REGION  YEAR  WEEK % WEIGHTED ILI %UNWEIGHTED ILI AGE 0-4  \\\n",
       "0      States     Alabama  2014    40              X         1.73174       X   \n",
       "1      States      Alaska  2014    40              X        0.437445       X   \n",
       "2      States     Arizona  2014    40              X         1.02937       X   \n",
       "3      States    Arkansas  2014    40              X         1.07239       X   \n",
       "4      States  California  2014    40              X          1.9089       X   \n",
       "\n",
       "  AGE 25-49 AGE 25-64 AGE 5-24 AGE 50-64 AGE 65 ILITOTAL NUM. OF PROVIDERS  \\\n",
       "0         X         X        X         X      X      220                26   \n",
       "1         X         X        X         X      X        5                 7   \n",
       "2         X         X        X         X      X      299                59   \n",
       "3         X         X        X         X      X       48                17   \n",
       "4         X         X        X         X      X      831               129   \n",
       "\n",
       "  TOTAL PATIENTS  \n",
       "0          12704  \n",
       "1           1143  \n",
       "2          29047  \n",
       "3           4476  \n",
       "4          43533  "
      ]
     },
     "execution_count": 16,
     "metadata": {},
     "output_type": "execute_result"
    }
   ],
   "source": [
    "df.head()"
   ]
  },
  {
   "cell_type": "code",
   "execution_count": 17,
   "metadata": {},
   "outputs": [
    {
     "data": {
      "text/html": [
       "<div>\n",
       "<style scoped>\n",
       "    .dataframe tbody tr th:only-of-type {\n",
       "        vertical-align: middle;\n",
       "    }\n",
       "\n",
       "    .dataframe tbody tr th {\n",
       "        vertical-align: top;\n",
       "    }\n",
       "\n",
       "    .dataframe thead th {\n",
       "        text-align: right;\n",
       "    }\n",
       "</style>\n",
       "<table border=\"1\" class=\"dataframe\">\n",
       "  <thead>\n",
       "    <tr style=\"text-align: right;\">\n",
       "      <th></th>\n",
       "      <th>REGION TYPE</th>\n",
       "      <th>REGION</th>\n",
       "      <th>YEAR</th>\n",
       "      <th>WEEK</th>\n",
       "      <th>% WEIGHTED ILI</th>\n",
       "      <th>%UNWEIGHTED ILI</th>\n",
       "      <th>AGE 0-4</th>\n",
       "      <th>AGE 25-49</th>\n",
       "      <th>AGE 25-64</th>\n",
       "      <th>AGE 5-24</th>\n",
       "      <th>AGE 50-64</th>\n",
       "      <th>AGE 65</th>\n",
       "      <th>ILITOTAL</th>\n",
       "      <th>NUM. OF PROVIDERS</th>\n",
       "      <th>TOTAL PATIENTS</th>\n",
       "    </tr>\n",
       "  </thead>\n",
       "  <tbody>\n",
       "    <tr>\n",
       "      <th>11605</th>\n",
       "      <td>States</td>\n",
       "      <td>Wisconsin</td>\n",
       "      <td>2018</td>\n",
       "      <td>45</td>\n",
       "      <td>X</td>\n",
       "      <td>1.22503</td>\n",
       "      <td>X</td>\n",
       "      <td>X</td>\n",
       "      <td>X</td>\n",
       "      <td>X</td>\n",
       "      <td>X</td>\n",
       "      <td>X</td>\n",
       "      <td>214</td>\n",
       "      <td>36</td>\n",
       "      <td>17469</td>\n",
       "    </tr>\n",
       "    <tr>\n",
       "      <th>11606</th>\n",
       "      <td>States</td>\n",
       "      <td>Wyoming</td>\n",
       "      <td>2018</td>\n",
       "      <td>45</td>\n",
       "      <td>X</td>\n",
       "      <td>0.797401</td>\n",
       "      <td>X</td>\n",
       "      <td>X</td>\n",
       "      <td>X</td>\n",
       "      <td>X</td>\n",
       "      <td>X</td>\n",
       "      <td>X</td>\n",
       "      <td>27</td>\n",
       "      <td>17</td>\n",
       "      <td>3386</td>\n",
       "    </tr>\n",
       "    <tr>\n",
       "      <th>11607</th>\n",
       "      <td>States</td>\n",
       "      <td>Puerto Rico</td>\n",
       "      <td>2018</td>\n",
       "      <td>45</td>\n",
       "      <td>X</td>\n",
       "      <td>8.38926</td>\n",
       "      <td>X</td>\n",
       "      <td>X</td>\n",
       "      <td>X</td>\n",
       "      <td>X</td>\n",
       "      <td>X</td>\n",
       "      <td>X</td>\n",
       "      <td>150</td>\n",
       "      <td>3</td>\n",
       "      <td>1788</td>\n",
       "    </tr>\n",
       "    <tr>\n",
       "      <th>11608</th>\n",
       "      <td>States</td>\n",
       "      <td>Virgin Islands</td>\n",
       "      <td>2018</td>\n",
       "      <td>45</td>\n",
       "      <td>X</td>\n",
       "      <td>0.788436</td>\n",
       "      <td>X</td>\n",
       "      <td>X</td>\n",
       "      <td>X</td>\n",
       "      <td>X</td>\n",
       "      <td>X</td>\n",
       "      <td>X</td>\n",
       "      <td>6</td>\n",
       "      <td>3</td>\n",
       "      <td>761</td>\n",
       "    </tr>\n",
       "    <tr>\n",
       "      <th>11609</th>\n",
       "      <td>States</td>\n",
       "      <td>New York City</td>\n",
       "      <td>2018</td>\n",
       "      <td>45</td>\n",
       "      <td>X</td>\n",
       "      <td>2.36452</td>\n",
       "      <td>X</td>\n",
       "      <td>X</td>\n",
       "      <td>X</td>\n",
       "      <td>X</td>\n",
       "      <td>X</td>\n",
       "      <td>X</td>\n",
       "      <td>2155</td>\n",
       "      <td>67</td>\n",
       "      <td>91139</td>\n",
       "    </tr>\n",
       "  </tbody>\n",
       "</table>\n",
       "</div>"
      ],
      "text/plain": [
       "      REGION TYPE          REGION  YEAR  WEEK % WEIGHTED ILI %UNWEIGHTED ILI  \\\n",
       "11605      States       Wisconsin  2018    45              X         1.22503   \n",
       "11606      States         Wyoming  2018    45              X        0.797401   \n",
       "11607      States     Puerto Rico  2018    45              X         8.38926   \n",
       "11608      States  Virgin Islands  2018    45              X        0.788436   \n",
       "11609      States   New York City  2018    45              X         2.36452   \n",
       "\n",
       "      AGE 0-4 AGE 25-49 AGE 25-64 AGE 5-24 AGE 50-64 AGE 65 ILITOTAL  \\\n",
       "11605       X         X         X        X         X      X      214   \n",
       "11606       X         X         X        X         X      X       27   \n",
       "11607       X         X         X        X         X      X      150   \n",
       "11608       X         X         X        X         X      X        6   \n",
       "11609       X         X         X        X         X      X     2155   \n",
       "\n",
       "      NUM. OF PROVIDERS TOTAL PATIENTS  \n",
       "11605                36          17469  \n",
       "11606                17           3386  \n",
       "11607                 3           1788  \n",
       "11608                 3            761  \n",
       "11609                67          91139  "
      ]
     },
     "execution_count": 17,
     "metadata": {},
     "output_type": "execute_result"
    }
   ],
   "source": [
    "df.tail()"
   ]
  },
  {
   "cell_type": "code",
   "execution_count": 18,
   "metadata": {},
   "outputs": [
    {
     "data": {
      "text/html": [
       "<div>\n",
       "<style scoped>\n",
       "    .dataframe tbody tr th:only-of-type {\n",
       "        vertical-align: middle;\n",
       "    }\n",
       "\n",
       "    .dataframe tbody tr th {\n",
       "        vertical-align: top;\n",
       "    }\n",
       "\n",
       "    .dataframe thead th {\n",
       "        text-align: right;\n",
       "    }\n",
       "</style>\n",
       "<table border=\"1\" class=\"dataframe\">\n",
       "  <thead>\n",
       "    <tr style=\"text-align: right;\">\n",
       "      <th></th>\n",
       "      <th>REGION TYPE</th>\n",
       "      <th>REGION</th>\n",
       "      <th>YEAR</th>\n",
       "      <th>WEEK</th>\n",
       "      <th>% WEIGHTED ILI</th>\n",
       "      <th>%UNWEIGHTED ILI</th>\n",
       "      <th>AGE 0-4</th>\n",
       "      <th>AGE 25-49</th>\n",
       "      <th>AGE 25-64</th>\n",
       "      <th>AGE 5-24</th>\n",
       "      <th>AGE 50-64</th>\n",
       "      <th>AGE 65</th>\n",
       "      <th>ILITOTAL</th>\n",
       "      <th>NUM. OF PROVIDERS</th>\n",
       "      <th>TOTAL PATIENTS</th>\n",
       "    </tr>\n",
       "  </thead>\n",
       "  <tbody>\n",
       "    <tr>\n",
       "      <th>3080</th>\n",
       "      <td>States</td>\n",
       "      <td>Arizona</td>\n",
       "      <td>2015</td>\n",
       "      <td>44</td>\n",
       "      <td>X</td>\n",
       "      <td>1.87283</td>\n",
       "      <td>X</td>\n",
       "      <td>X</td>\n",
       "      <td>X</td>\n",
       "      <td>X</td>\n",
       "      <td>X</td>\n",
       "      <td>X</td>\n",
       "      <td>415</td>\n",
       "      <td>57</td>\n",
       "      <td>22159</td>\n",
       "    </tr>\n",
       "    <tr>\n",
       "      <th>4912</th>\n",
       "      <td>States</td>\n",
       "      <td>Virgin Islands</td>\n",
       "      <td>2016</td>\n",
       "      <td>25</td>\n",
       "      <td>X</td>\n",
       "      <td>1.63043</td>\n",
       "      <td>X</td>\n",
       "      <td>X</td>\n",
       "      <td>X</td>\n",
       "      <td>X</td>\n",
       "      <td>X</td>\n",
       "      <td>X</td>\n",
       "      <td>6</td>\n",
       "      <td>1</td>\n",
       "      <td>368</td>\n",
       "    </tr>\n",
       "    <tr>\n",
       "      <th>4361</th>\n",
       "      <td>States</td>\n",
       "      <td>South Dakota</td>\n",
       "      <td>2016</td>\n",
       "      <td>15</td>\n",
       "      <td>X</td>\n",
       "      <td>1.66091</td>\n",
       "      <td>X</td>\n",
       "      <td>X</td>\n",
       "      <td>X</td>\n",
       "      <td>X</td>\n",
       "      <td>X</td>\n",
       "      <td>X</td>\n",
       "      <td>149</td>\n",
       "      <td>33</td>\n",
       "      <td>8971</td>\n",
       "    </tr>\n",
       "    <tr>\n",
       "      <th>758</th>\n",
       "      <td>States</td>\n",
       "      <td>Arizona</td>\n",
       "      <td>2015</td>\n",
       "      <td>1</td>\n",
       "      <td>X</td>\n",
       "      <td>2.65774</td>\n",
       "      <td>X</td>\n",
       "      <td>X</td>\n",
       "      <td>X</td>\n",
       "      <td>X</td>\n",
       "      <td>X</td>\n",
       "      <td>X</td>\n",
       "      <td>639</td>\n",
       "      <td>60</td>\n",
       "      <td>24043</td>\n",
       "    </tr>\n",
       "    <tr>\n",
       "      <th>7952</th>\n",
       "      <td>States</td>\n",
       "      <td>Indiana</td>\n",
       "      <td>2017</td>\n",
       "      <td>30</td>\n",
       "      <td>X</td>\n",
       "      <td>0.42623</td>\n",
       "      <td>X</td>\n",
       "      <td>X</td>\n",
       "      <td>X</td>\n",
       "      <td>X</td>\n",
       "      <td>X</td>\n",
       "      <td>X</td>\n",
       "      <td>13</td>\n",
       "      <td>16</td>\n",
       "      <td>3050</td>\n",
       "    </tr>\n",
       "    <tr>\n",
       "      <th>1180</th>\n",
       "      <td>States</td>\n",
       "      <td>Virginia</td>\n",
       "      <td>2015</td>\n",
       "      <td>8</td>\n",
       "      <td>X</td>\n",
       "      <td>1.70949</td>\n",
       "      <td>X</td>\n",
       "      <td>X</td>\n",
       "      <td>X</td>\n",
       "      <td>X</td>\n",
       "      <td>X</td>\n",
       "      <td>X</td>\n",
       "      <td>1618</td>\n",
       "      <td>125</td>\n",
       "      <td>94648</td>\n",
       "    </tr>\n",
       "    <tr>\n",
       "      <th>9011</th>\n",
       "      <td>States</td>\n",
       "      <td>Washington</td>\n",
       "      <td>2017</td>\n",
       "      <td>49</td>\n",
       "      <td>X</td>\n",
       "      <td>0.381971</td>\n",
       "      <td>X</td>\n",
       "      <td>X</td>\n",
       "      <td>X</td>\n",
       "      <td>X</td>\n",
       "      <td>X</td>\n",
       "      <td>X</td>\n",
       "      <td>20</td>\n",
       "      <td>48</td>\n",
       "      <td>5236</td>\n",
       "    </tr>\n",
       "    <tr>\n",
       "      <th>2216</th>\n",
       "      <td>States</td>\n",
       "      <td>Arizona</td>\n",
       "      <td>2015</td>\n",
       "      <td>28</td>\n",
       "      <td>X</td>\n",
       "      <td>0.647333</td>\n",
       "      <td>X</td>\n",
       "      <td>X</td>\n",
       "      <td>X</td>\n",
       "      <td>X</td>\n",
       "      <td>X</td>\n",
       "      <td>X</td>\n",
       "      <td>125</td>\n",
       "      <td>51</td>\n",
       "      <td>19310</td>\n",
       "    </tr>\n",
       "    <tr>\n",
       "      <th>2126</th>\n",
       "      <td>States</td>\n",
       "      <td>Maryland</td>\n",
       "      <td>2015</td>\n",
       "      <td>26</td>\n",
       "      <td>X</td>\n",
       "      <td>1.47186</td>\n",
       "      <td>X</td>\n",
       "      <td>X</td>\n",
       "      <td>X</td>\n",
       "      <td>X</td>\n",
       "      <td>X</td>\n",
       "      <td>X</td>\n",
       "      <td>68</td>\n",
       "      <td>16</td>\n",
       "      <td>4620</td>\n",
       "    </tr>\n",
       "    <tr>\n",
       "      <th>5104</th>\n",
       "      <td>States</td>\n",
       "      <td>Nevada</td>\n",
       "      <td>2016</td>\n",
       "      <td>29</td>\n",
       "      <td>X</td>\n",
       "      <td>0.395294</td>\n",
       "      <td>X</td>\n",
       "      <td>X</td>\n",
       "      <td>X</td>\n",
       "      <td>X</td>\n",
       "      <td>X</td>\n",
       "      <td>X</td>\n",
       "      <td>42</td>\n",
       "      <td>19</td>\n",
       "      <td>10625</td>\n",
       "    </tr>\n",
       "  </tbody>\n",
       "</table>\n",
       "</div>"
      ],
      "text/plain": [
       "     REGION TYPE          REGION  YEAR  WEEK % WEIGHTED ILI %UNWEIGHTED ILI  \\\n",
       "3080      States         Arizona  2015    44              X         1.87283   \n",
       "4912      States  Virgin Islands  2016    25              X         1.63043   \n",
       "4361      States    South Dakota  2016    15              X         1.66091   \n",
       "758       States         Arizona  2015     1              X         2.65774   \n",
       "7952      States         Indiana  2017    30              X         0.42623   \n",
       "1180      States        Virginia  2015     8              X         1.70949   \n",
       "9011      States      Washington  2017    49              X        0.381971   \n",
       "2216      States         Arizona  2015    28              X        0.647333   \n",
       "2126      States        Maryland  2015    26              X         1.47186   \n",
       "5104      States          Nevada  2016    29              X        0.395294   \n",
       "\n",
       "     AGE 0-4 AGE 25-49 AGE 25-64 AGE 5-24 AGE 50-64 AGE 65 ILITOTAL  \\\n",
       "3080       X         X         X        X         X      X      415   \n",
       "4912       X         X         X        X         X      X        6   \n",
       "4361       X         X         X        X         X      X      149   \n",
       "758        X         X         X        X         X      X      639   \n",
       "7952       X         X         X        X         X      X       13   \n",
       "1180       X         X         X        X         X      X     1618   \n",
       "9011       X         X         X        X         X      X       20   \n",
       "2216       X         X         X        X         X      X      125   \n",
       "2126       X         X         X        X         X      X       68   \n",
       "5104       X         X         X        X         X      X       42   \n",
       "\n",
       "     NUM. OF PROVIDERS TOTAL PATIENTS  \n",
       "3080                57          22159  \n",
       "4912                 1            368  \n",
       "4361                33           8971  \n",
       "758                 60          24043  \n",
       "7952                16           3050  \n",
       "1180               125          94648  \n",
       "9011                48           5236  \n",
       "2216                51          19310  \n",
       "2126                16           4620  \n",
       "5104                19          10625  "
      ]
     },
     "execution_count": 18,
     "metadata": {},
     "output_type": "execute_result"
    }
   ],
   "source": [
    "df.sample(10)"
   ]
  },
  {
   "cell_type": "markdown",
   "metadata": {},
   "source": [
    "### Quick Exercise\n",
    "- How many entries of data do we have (number of observations)?\n",
    "- How many columns do we have (number of variables)?\n",
    "- Any first impression on what we may have to clean in this dataset?"
   ]
  },
  {
   "cell_type": "code",
   "execution_count": 19,
   "metadata": {},
   "outputs": [],
   "source": [
    "# scratch space\n"
   ]
  },
  {
   "cell_type": "code",
   "execution_count": 20,
   "metadata": {},
   "outputs": [
    {
     "data": {
      "text/plain": [
       "(11610, 15)"
      ]
     },
     "execution_count": 20,
     "metadata": {},
     "output_type": "execute_result"
    }
   ],
   "source": [
    "df.shape"
   ]
  },
  {
   "cell_type": "code",
   "execution_count": 21,
   "metadata": {},
   "outputs": [
    {
     "data": {
      "text/plain": [
       "11610"
      ]
     },
     "execution_count": 21,
     "metadata": {},
     "output_type": "execute_result"
    }
   ],
   "source": [
    "len(df)"
   ]
  },
  {
   "cell_type": "code",
   "execution_count": 22,
   "metadata": {},
   "outputs": [
    {
     "data": {
      "text/plain": [
       "15"
      ]
     },
     "execution_count": 22,
     "metadata": {},
     "output_type": "execute_result"
    }
   ],
   "source": [
    "len(df.columns)"
   ]
  },
  {
   "cell_type": "code",
   "execution_count": 23,
   "metadata": {},
   "outputs": [
    {
     "data": {
      "text/plain": [
       "11610"
      ]
     },
     "execution_count": 23,
     "metadata": {},
     "output_type": "execute_result"
    }
   ],
   "source": [
    "len(df.index)"
   ]
  },
  {
   "cell_type": "markdown",
   "metadata": {},
   "source": [
    "### Basic Data Cleanup\n",
    "For now lets narrow down this dataset to some simple components:\n",
    "- REGION\n",
    "- YEAR\n",
    "- WEEK\n",
    "- ILITOTAL"
   ]
  },
  {
   "cell_type": "code",
   "execution_count": 24,
   "metadata": {},
   "outputs": [],
   "source": [
    "# we'll select just those columns and create new dataframe\n",
    "df1 = df[['YEAR', 'WEEK','REGION','ILITOTAL']]"
   ]
  },
  {
   "cell_type": "code",
   "execution_count": 25,
   "metadata": {},
   "outputs": [
    {
     "name": "stdout",
     "output_type": "stream",
     "text": [
      "<class 'pandas.core.frame.DataFrame'>\n",
      "RangeIndex: 11610 entries, 0 to 11609\n",
      "Data columns (total 4 columns):\n",
      "YEAR        11610 non-null int64\n",
      "WEEK        11610 non-null int64\n",
      "REGION      11610 non-null object\n",
      "ILITOTAL    11610 non-null object\n",
      "dtypes: int64(2), object(2)\n",
      "memory usage: 362.9+ KB\n"
     ]
    }
   ],
   "source": [
    "# let's check the summary of our new dataframe using the \"info()\" function\n",
    "df1.info()"
   ]
  },
  {
   "cell_type": "markdown",
   "metadata": {},
   "source": [
    "Note that our \"ILITOTAL\" variable is an 'object' type, not an integer ('int64').  This means that there are some string values in this column that we should clean up."
   ]
  },
  {
   "cell_type": "code",
   "execution_count": 26,
   "metadata": {},
   "outputs": [
    {
     "data": {
      "text/html": [
       "<div>\n",
       "<style scoped>\n",
       "    .dataframe tbody tr th:only-of-type {\n",
       "        vertical-align: middle;\n",
       "    }\n",
       "\n",
       "    .dataframe tbody tr th {\n",
       "        vertical-align: top;\n",
       "    }\n",
       "\n",
       "    .dataframe thead th {\n",
       "        text-align: right;\n",
       "    }\n",
       "</style>\n",
       "<table border=\"1\" class=\"dataframe\">\n",
       "  <thead>\n",
       "    <tr style=\"text-align: right;\">\n",
       "      <th></th>\n",
       "      <th>YEAR</th>\n",
       "      <th>WEEK</th>\n",
       "      <th>REGION</th>\n",
       "      <th>ILITOTAL</th>\n",
       "    </tr>\n",
       "  </thead>\n",
       "  <tbody>\n",
       "    <tr>\n",
       "      <th>0</th>\n",
       "      <td>2014</td>\n",
       "      <td>40</td>\n",
       "      <td>Alabama</td>\n",
       "      <td>220</td>\n",
       "    </tr>\n",
       "    <tr>\n",
       "      <th>1</th>\n",
       "      <td>2014</td>\n",
       "      <td>40</td>\n",
       "      <td>Alaska</td>\n",
       "      <td>5</td>\n",
       "    </tr>\n",
       "    <tr>\n",
       "      <th>2</th>\n",
       "      <td>2014</td>\n",
       "      <td>40</td>\n",
       "      <td>Arizona</td>\n",
       "      <td>299</td>\n",
       "    </tr>\n",
       "    <tr>\n",
       "      <th>3</th>\n",
       "      <td>2014</td>\n",
       "      <td>40</td>\n",
       "      <td>Arkansas</td>\n",
       "      <td>48</td>\n",
       "    </tr>\n",
       "    <tr>\n",
       "      <th>4</th>\n",
       "      <td>2014</td>\n",
       "      <td>40</td>\n",
       "      <td>California</td>\n",
       "      <td>831</td>\n",
       "    </tr>\n",
       "    <tr>\n",
       "      <th>5</th>\n",
       "      <td>2014</td>\n",
       "      <td>40</td>\n",
       "      <td>Colorado</td>\n",
       "      <td>19</td>\n",
       "    </tr>\n",
       "    <tr>\n",
       "      <th>6</th>\n",
       "      <td>2014</td>\n",
       "      <td>40</td>\n",
       "      <td>Connecticut</td>\n",
       "      <td>60</td>\n",
       "    </tr>\n",
       "    <tr>\n",
       "      <th>7</th>\n",
       "      <td>2014</td>\n",
       "      <td>40</td>\n",
       "      <td>Delaware</td>\n",
       "      <td>1</td>\n",
       "    </tr>\n",
       "    <tr>\n",
       "      <th>8</th>\n",
       "      <td>2014</td>\n",
       "      <td>40</td>\n",
       "      <td>District of Columbia</td>\n",
       "      <td>119</td>\n",
       "    </tr>\n",
       "    <tr>\n",
       "      <th>9</th>\n",
       "      <td>2014</td>\n",
       "      <td>40</td>\n",
       "      <td>Florida</td>\n",
       "      <td>X</td>\n",
       "    </tr>\n",
       "  </tbody>\n",
       "</table>\n",
       "</div>"
      ],
      "text/plain": [
       "   YEAR  WEEK                REGION ILITOTAL\n",
       "0  2014    40               Alabama      220\n",
       "1  2014    40                Alaska        5\n",
       "2  2014    40               Arizona      299\n",
       "3  2014    40              Arkansas       48\n",
       "4  2014    40            California      831\n",
       "5  2014    40              Colorado       19\n",
       "6  2014    40           Connecticut       60\n",
       "7  2014    40              Delaware        1\n",
       "8  2014    40  District of Columbia      119\n",
       "9  2014    40               Florida        X"
      ]
     },
     "execution_count": 26,
     "metadata": {},
     "output_type": "execute_result"
    }
   ],
   "source": [
    "# let's take a closer look at our new dataframe\n",
    "df1.head(10)"
   ]
  },
  {
   "cell_type": "code",
   "execution_count": 27,
   "metadata": {},
   "outputs": [
    {
     "name": "stderr",
     "output_type": "stream",
     "text": [
      "/Users/chambersmj/anaconda3/lib/python3.6/site-packages/pandas/core/generic.py:5886: SettingWithCopyWarning: \n",
      "A value is trying to be set on a copy of a slice from a DataFrame\n",
      "\n",
      "See the caveats in the documentation: http://pandas.pydata.org/pandas-docs/stable/indexing.html#indexing-view-versus-copy\n",
      "  self._update_inplace(new_data)\n"
     ]
    }
   ],
   "source": [
    "# note that in row 9 we have a value of \"X\" for 'ILITOTAL'\n",
    "# lets replace all the \"X\" values in 'ILITOTAL' with a null placeholder\n",
    "# to do this we're going to import another pachage called NumPy\n",
    "import numpy as np\n",
    "df1['ILITOTAL'].replace('X', np.nan, inplace=True)"
   ]
  },
  {
   "cell_type": "code",
   "execution_count": 28,
   "metadata": {},
   "outputs": [
    {
     "data": {
      "text/html": [
       "<div>\n",
       "<style scoped>\n",
       "    .dataframe tbody tr th:only-of-type {\n",
       "        vertical-align: middle;\n",
       "    }\n",
       "\n",
       "    .dataframe tbody tr th {\n",
       "        vertical-align: top;\n",
       "    }\n",
       "\n",
       "    .dataframe thead th {\n",
       "        text-align: right;\n",
       "    }\n",
       "</style>\n",
       "<table border=\"1\" class=\"dataframe\">\n",
       "  <thead>\n",
       "    <tr style=\"text-align: right;\">\n",
       "      <th></th>\n",
       "      <th>YEAR</th>\n",
       "      <th>WEEK</th>\n",
       "      <th>REGION</th>\n",
       "      <th>ILITOTAL</th>\n",
       "    </tr>\n",
       "  </thead>\n",
       "  <tbody>\n",
       "    <tr>\n",
       "      <th>0</th>\n",
       "      <td>2014</td>\n",
       "      <td>40</td>\n",
       "      <td>Alabama</td>\n",
       "      <td>220</td>\n",
       "    </tr>\n",
       "    <tr>\n",
       "      <th>1</th>\n",
       "      <td>2014</td>\n",
       "      <td>40</td>\n",
       "      <td>Alaska</td>\n",
       "      <td>5</td>\n",
       "    </tr>\n",
       "    <tr>\n",
       "      <th>2</th>\n",
       "      <td>2014</td>\n",
       "      <td>40</td>\n",
       "      <td>Arizona</td>\n",
       "      <td>299</td>\n",
       "    </tr>\n",
       "    <tr>\n",
       "      <th>3</th>\n",
       "      <td>2014</td>\n",
       "      <td>40</td>\n",
       "      <td>Arkansas</td>\n",
       "      <td>48</td>\n",
       "    </tr>\n",
       "    <tr>\n",
       "      <th>4</th>\n",
       "      <td>2014</td>\n",
       "      <td>40</td>\n",
       "      <td>California</td>\n",
       "      <td>831</td>\n",
       "    </tr>\n",
       "    <tr>\n",
       "      <th>5</th>\n",
       "      <td>2014</td>\n",
       "      <td>40</td>\n",
       "      <td>Colorado</td>\n",
       "      <td>19</td>\n",
       "    </tr>\n",
       "    <tr>\n",
       "      <th>6</th>\n",
       "      <td>2014</td>\n",
       "      <td>40</td>\n",
       "      <td>Connecticut</td>\n",
       "      <td>60</td>\n",
       "    </tr>\n",
       "    <tr>\n",
       "      <th>7</th>\n",
       "      <td>2014</td>\n",
       "      <td>40</td>\n",
       "      <td>Delaware</td>\n",
       "      <td>1</td>\n",
       "    </tr>\n",
       "    <tr>\n",
       "      <th>8</th>\n",
       "      <td>2014</td>\n",
       "      <td>40</td>\n",
       "      <td>District of Columbia</td>\n",
       "      <td>119</td>\n",
       "    </tr>\n",
       "    <tr>\n",
       "      <th>9</th>\n",
       "      <td>2014</td>\n",
       "      <td>40</td>\n",
       "      <td>Florida</td>\n",
       "      <td>NaN</td>\n",
       "    </tr>\n",
       "  </tbody>\n",
       "</table>\n",
       "</div>"
      ],
      "text/plain": [
       "   YEAR  WEEK                REGION ILITOTAL\n",
       "0  2014    40               Alabama      220\n",
       "1  2014    40                Alaska        5\n",
       "2  2014    40               Arizona      299\n",
       "3  2014    40              Arkansas       48\n",
       "4  2014    40            California      831\n",
       "5  2014    40              Colorado       19\n",
       "6  2014    40           Connecticut       60\n",
       "7  2014    40              Delaware        1\n",
       "8  2014    40  District of Columbia      119\n",
       "9  2014    40               Florida      NaN"
      ]
     },
     "execution_count": 28,
     "metadata": {},
     "output_type": "execute_result"
    }
   ],
   "source": [
    "# and we'll check the top 10 lines to see if \"X\" was replaced\n",
    "df1.head(10)"
   ]
  },
  {
   "cell_type": "code",
   "execution_count": 29,
   "metadata": {},
   "outputs": [
    {
     "name": "stdout",
     "output_type": "stream",
     "text": [
      "<class 'pandas.core.frame.DataFrame'>\n",
      "RangeIndex: 11610 entries, 0 to 11609\n",
      "Data columns (total 4 columns):\n",
      "YEAR        11610 non-null int64\n",
      "WEEK        11610 non-null int64\n",
      "REGION      11610 non-null object\n",
      "ILITOTAL    11395 non-null object\n",
      "dtypes: int64(2), object(2)\n",
      "memory usage: 362.9+ KB\n"
     ]
    }
   ],
   "source": [
    "# but what about the column type?\n",
    "df1.info()"
   ]
  },
  {
   "cell_type": "code",
   "execution_count": 30,
   "metadata": {},
   "outputs": [
    {
     "name": "stderr",
     "output_type": "stream",
     "text": [
      "/Users/chambersmj/anaconda3/lib/python3.6/site-packages/ipykernel_launcher.py:1: SettingWithCopyWarning: \n",
      "A value is trying to be set on a copy of a slice from a DataFrame.\n",
      "Try using .loc[row_indexer,col_indexer] = value instead\n",
      "\n",
      "See the caveats in the documentation: http://pandas.pydata.org/pandas-docs/stable/indexing.html#indexing-view-versus-copy\n",
      "  \"\"\"Entry point for launching an IPython kernel.\n"
     ]
    }
   ],
   "source": [
    "df1['ILITOTAL'] = df1['ILITOTAL'].astype('float')"
   ]
  },
  {
   "cell_type": "code",
   "execution_count": 31,
   "metadata": {},
   "outputs": [
    {
     "name": "stdout",
     "output_type": "stream",
     "text": [
      "<class 'pandas.core.frame.DataFrame'>\n",
      "RangeIndex: 11610 entries, 0 to 11609\n",
      "Data columns (total 4 columns):\n",
      "YEAR        11610 non-null int64\n",
      "WEEK        11610 non-null int64\n",
      "REGION      11610 non-null object\n",
      "ILITOTAL    11395 non-null float64\n",
      "dtypes: float64(1), int64(2), object(1)\n",
      "memory usage: 362.9+ KB\n"
     ]
    }
   ],
   "source": [
    "# now lets recheck the info for our dataframe\n",
    "# note: 'ILITOTAL' is now a float object ('float64')\n",
    "df1.info()"
   ]
  },
  {
   "cell_type": "code",
   "execution_count": 32,
   "metadata": {},
   "outputs": [
    {
     "data": {
      "text/html": [
       "<div>\n",
       "<style scoped>\n",
       "    .dataframe tbody tr th:only-of-type {\n",
       "        vertical-align: middle;\n",
       "    }\n",
       "\n",
       "    .dataframe tbody tr th {\n",
       "        vertical-align: top;\n",
       "    }\n",
       "\n",
       "    .dataframe thead th {\n",
       "        text-align: right;\n",
       "    }\n",
       "</style>\n",
       "<table border=\"1\" class=\"dataframe\">\n",
       "  <thead>\n",
       "    <tr style=\"text-align: right;\">\n",
       "      <th></th>\n",
       "      <th>YEAR</th>\n",
       "      <th>WEEK</th>\n",
       "      <th>ILITOTAL</th>\n",
       "    </tr>\n",
       "  </thead>\n",
       "  <tbody>\n",
       "    <tr>\n",
       "      <th>count</th>\n",
       "      <td>11610.000000</td>\n",
       "      <td>11610.000000</td>\n",
       "      <td>11395.000000</td>\n",
       "    </tr>\n",
       "    <tr>\n",
       "      <th>mean</th>\n",
       "      <td>2016.288372</td>\n",
       "      <td>27.069767</td>\n",
       "      <td>314.264941</td>\n",
       "    </tr>\n",
       "    <tr>\n",
       "      <th>std</th>\n",
       "      <td>1.224078</td>\n",
       "      <td>15.103084</td>\n",
       "      <td>657.111692</td>\n",
       "    </tr>\n",
       "    <tr>\n",
       "      <th>min</th>\n",
       "      <td>2014.000000</td>\n",
       "      <td>1.000000</td>\n",
       "      <td>0.000000</td>\n",
       "    </tr>\n",
       "    <tr>\n",
       "      <th>25%</th>\n",
       "      <td>2015.000000</td>\n",
       "      <td>14.000000</td>\n",
       "      <td>21.000000</td>\n",
       "    </tr>\n",
       "    <tr>\n",
       "      <th>50%</th>\n",
       "      <td>2016.000000</td>\n",
       "      <td>27.000000</td>\n",
       "      <td>93.000000</td>\n",
       "    </tr>\n",
       "    <tr>\n",
       "      <th>75%</th>\n",
       "      <td>2017.000000</td>\n",
       "      <td>41.000000</td>\n",
       "      <td>309.000000</td>\n",
       "    </tr>\n",
       "    <tr>\n",
       "      <th>max</th>\n",
       "      <td>2018.000000</td>\n",
       "      <td>53.000000</td>\n",
       "      <td>11452.000000</td>\n",
       "    </tr>\n",
       "  </tbody>\n",
       "</table>\n",
       "</div>"
      ],
      "text/plain": [
       "               YEAR          WEEK      ILITOTAL\n",
       "count  11610.000000  11610.000000  11395.000000\n",
       "mean    2016.288372     27.069767    314.264941\n",
       "std        1.224078     15.103084    657.111692\n",
       "min     2014.000000      1.000000      0.000000\n",
       "25%     2015.000000     14.000000     21.000000\n",
       "50%     2016.000000     27.000000     93.000000\n",
       "75%     2017.000000     41.000000    309.000000\n",
       "max     2018.000000     53.000000  11452.000000"
      ]
     },
     "execution_count": 32,
     "metadata": {},
     "output_type": "execute_result"
    }
   ],
   "source": [
    "# lets try the \"describe()\" function again\n",
    "# note: we now have summary states for 'ILITOTAL'\n",
    "df1.describe()"
   ]
  },
  {
   "cell_type": "code",
   "execution_count": 33,
   "metadata": {},
   "outputs": [
    {
     "data": {
      "text/plain": [
       "54"
      ]
     },
     "execution_count": 33,
     "metadata": {},
     "output_type": "execute_result"
    }
   ],
   "source": [
    "# one more safetey check, is this just for the 50 US states?\n",
    "df1['REGION'].nunique()"
   ]
  },
  {
   "cell_type": "code",
   "execution_count": 34,
   "metadata": {},
   "outputs": [
    {
     "data": {
      "text/plain": [
       "['Alabama',\n",
       " 'Alaska',\n",
       " 'Arizona',\n",
       " 'Arkansas',\n",
       " 'California',\n",
       " 'Colorado',\n",
       " 'Connecticut',\n",
       " 'Delaware',\n",
       " 'District of Columbia',\n",
       " 'Florida',\n",
       " 'Georgia',\n",
       " 'Hawaii',\n",
       " 'Idaho',\n",
       " 'Illinois',\n",
       " 'Indiana',\n",
       " 'Iowa',\n",
       " 'Kansas',\n",
       " 'Kentucky',\n",
       " 'Louisiana',\n",
       " 'Maine',\n",
       " 'Maryland',\n",
       " 'Massachusetts',\n",
       " 'Michigan',\n",
       " 'Minnesota',\n",
       " 'Mississippi',\n",
       " 'Missouri',\n",
       " 'Montana',\n",
       " 'Nebraska',\n",
       " 'Nevada',\n",
       " 'New Hampshire',\n",
       " 'New Jersey',\n",
       " 'New Mexico',\n",
       " 'New York',\n",
       " 'North Carolina',\n",
       " 'North Dakota',\n",
       " 'Ohio',\n",
       " 'Oklahoma',\n",
       " 'Oregon',\n",
       " 'Pennsylvania',\n",
       " 'Rhode Island',\n",
       " 'South Carolina',\n",
       " 'South Dakota',\n",
       " 'Tennessee',\n",
       " 'Texas',\n",
       " 'Utah',\n",
       " 'Vermont',\n",
       " 'Virginia',\n",
       " 'Washington',\n",
       " 'West Virginia',\n",
       " 'Wisconsin',\n",
       " 'Wyoming',\n",
       " 'Puerto Rico',\n",
       " 'Virgin Islands',\n",
       " 'New York City']"
      ]
     },
     "execution_count": 34,
     "metadata": {},
     "output_type": "execute_result"
    }
   ],
   "source": [
    "# view a unique listing of regions in the dataframe\n",
    "df1['REGION'].unique().tolist()"
   ]
  },
  {
   "cell_type": "markdown",
   "metadata": {},
   "source": [
    "### Data Visualization\n",
    "Now that we have simplified our dataset lets make some figures!"
   ]
  },
  {
   "cell_type": "code",
   "execution_count": 35,
   "metadata": {},
   "outputs": [],
   "source": [
    "import matplotlib.pyplot as plt\n",
    "import seaborn as sns\n",
    "plt.style.use('seaborn')\n",
    "%matplotlib inline"
   ]
  },
  {
   "cell_type": "code",
   "execution_count": 36,
   "metadata": {},
   "outputs": [
    {
     "data": {
      "text/plain": [
       "<matplotlib.axes._subplots.AxesSubplot at 0x1a0b05f7b8>"
      ]
     },
     "execution_count": 36,
     "metadata": {},
     "output_type": "execute_result"
    },
    {
     "data": {
      "image/png": "[encoded data removed]",
      "text/plain": [
       "<Figure size 432x288 with 1 Axes>"
      ]
     },
     "metadata": {},
     "output_type": "display_data"
    }
   ],
   "source": [
    "# getting a quick glimpse with the plot() function\n",
    "df1.plot()"
   ]
  },
  {
   "cell_type": "code",
   "execution_count": 37,
   "metadata": {},
   "outputs": [
    {
     "data": {
      "text/plain": [
       "<matplotlib.axes._subplots.AxesSubplot at 0x1a168b6d68>"
      ]
     },
     "execution_count": 37,
     "metadata": {},
     "output_type": "execute_result"
    },
    {
     "data": {
      "image/png": "[encoded data removed]",
      "text/plain": [
       "<Figure size 432x288 with 1 Axes>"
      ]
     },
     "metadata": {},
     "output_type": "display_data"
    }
   ],
   "source": [
    "# generate a histogram for the ILI case count\n",
    "df1['ILITOTAL'].hist(bins=100)"
   ]
  },
  {
   "cell_type": "code",
   "execution_count": 38,
   "metadata": {},
   "outputs": [
    {
     "data": {
      "text/plain": [
       "<matplotlib.axes._subplots.AxesSubplot at 0x1a16bed898>"
      ]
     },
     "execution_count": 38,
     "metadata": {},
     "output_type": "execute_result"
    },
    {
     "data": {
      "image/png": "[encoded data removed]",
      "text/plain": [
       "<Figure size 432x288 with 1 Axes>"
      ]
     },
     "metadata": {},
     "output_type": "display_data"
    }
   ],
   "source": [
    "# generate a boxplot for the ILI case count\n",
    "df1.boxplot('ILITOTAL')"
   ]
  },
  {
   "cell_type": "code",
   "execution_count": 39,
   "metadata": {},
   "outputs": [
    {
     "data": {
      "image/png": "[encoded data removed]",
      "text/plain": [
       "<Figure size 432x288 with 1 Axes>"
      ]
     },
     "metadata": {},
     "output_type": "display_data"
    }
   ],
   "source": [
    "# saving a figure\n",
    "plt = df1.boxplot('ILITOTAL')\n",
    "plt.set_title('Range of ILI Cases per Week')\n",
    "plt.set_ylabel('# if ILI Cases per Week')\n",
    "fig = plt.get_figure()\n",
    "fig.savefig('figs/fig1.png')"
   ]
  },
  {
   "cell_type": "markdown",
   "metadata": {},
   "source": [
    "Seaborn is an alternative package that works very well with Pandas dataframes to generate figures, check out the Seaborn [example gallery](https://seaborn.pydata.org/examples/index.html) for some inspiration."
   ]
  },
  {
   "cell_type": "code",
   "execution_count": 40,
   "metadata": {},
   "outputs": [
    {
     "data": {
      "text/plain": [
       "<matplotlib.axes._subplots.AxesSubplot at 0x1a16b639b0>"
      ]
     },
     "execution_count": 40,
     "metadata": {},
     "output_type": "execute_result"
    },
    {
     "data": {
      "image/png": "[encoded data removed]",
      "text/plain": [
       "<Figure size 432x288 with 1 Axes>"
      ]
     },
     "metadata": {},
     "output_type": "display_data"
    }
   ],
   "source": [
    "# making a seaborn lineplot (sns.lineplot())\n",
    "# lets view the incidence of influenza cases over weeks for each state\n",
    "sns.lineplot(x=\"WEEK\", y=\"ILITOTAL\",\n",
    "             hue=\"REGION\",\n",
    "             data=df1)"
   ]
  },
  {
   "cell_type": "code",
   "execution_count": 41,
   "metadata": {},
   "outputs": [
    {
     "data": {
      "text/plain": [
       "<matplotlib.axes._subplots.AxesSubplot at 0x1a16d60080>"
      ]
     },
     "execution_count": 41,
     "metadata": {},
     "output_type": "execute_result"
    },
    {
     "data": {
      "image/png": "[encoded data removed]",
      "text/plain": [
       "<Figure size 432x288 with 1 Axes>"
      ]
     },
     "metadata": {},
     "output_type": "display_data"
    }
   ],
   "source": [
    "# lets view the incidence of influenza cases over weeks for a single\n",
    "sns.lineplot(x=\"WEEK\", y=\"ILITOTAL\",\n",
    "             hue=\"REGION\",\n",
    "             data=df1.query('REGION == \"Maryland\"'))"
   ]
  },
  {
   "cell_type": "code",
   "execution_count": 43,
   "metadata": {},
   "outputs": [
    {
     "data": {
      "text/plain": [
       "<matplotlib.axes._subplots.AxesSubplot at 0x1a17497ba8>"
      ]
     },
     "execution_count": 43,
     "metadata": {},
     "output_type": "execute_result"
    },
    {
     "data": {
      "image/png": "[encoded data removed]",
      "text/plain": [
       "<Figure size 432x288 with 1 Axes>"
      ]
     },
     "metadata": {},
     "output_type": "display_data"
    }
   ],
   "source": [
    "# lets view the incidence of influenza cases over weeks for a list of regions/states\n",
    "extra_regions = ['District of Columbia','Maryland','Virginia']\n",
    "sns.lineplot(x=\"WEEK\", y=\"ILITOTAL\",\n",
    "             hue=\"REGION\",\n",
    "             data=df1.query(f'REGION == {extra_regions}'))"
   ]
  },
  {
   "cell_type": "code",
   "execution_count": 44,
   "metadata": {},
   "outputs": [
    {
     "data": {
      "image/png": "[encoded data removed]",
      "text/plain": [
       "<Figure size 432x288 with 1 Axes>"
      ]
     },
     "metadata": {},
     "output_type": "display_data"
    }
   ],
   "source": [
    "# saving a seaborn plot by making a pointer and using get_figure()\n",
    "sns_plt = sns.lineplot(x=\"WEEK\", y=\"ILITOTAL\",\n",
    "             hue=\"REGION\",\n",
    "             data=df1.query('REGION == \"Maryland\"'))\n",
    "fig = sns_plt.get_figure()\n",
    "fig.savefig('figs/fig2.png')"
   ]
  },
  {
   "cell_type": "code",
   "execution_count": 45,
   "metadata": {},
   "outputs": [
    {
     "data": {
      "image/png": "[encoded data removed]",
      "text/plain": [
       "<Figure size 432x288 with 1 Axes>"
      ]
     },
     "metadata": {},
     "output_type": "display_data"
    }
   ],
   "source": [
    "# bringing it all together to make the example image at the top\n",
    "regions = ['Maryland','Virginia','District of Columbia']\n",
    "\n",
    "sns_plt = sns.lineplot(x=\"WEEK\", y=\"ILITOTAL\",\n",
    "             hue=\"REGION\",\n",
    "             data=df1.query(f'REGION == {regions}'))\n",
    "sns_plt.set_title('Influenza-Like Cases from 2014-2018')\n",
    "sns_plt.set_ylabel('Number of Influenza-Like Cases')\n",
    "sns_plt.set_xlabel('Week Number')\n",
    "\n",
    "fig = sns_plt.get_figure()\n",
    "fig.savefig('figs/flu.png')"
   ]
  },
  {
   "cell_type": "code",
   "execution_count": 46,
   "metadata": {},
   "outputs": [
    {
     "data": {
      "text/plain": [
       "<matplotlib.axes._subplots.AxesSubplot at 0x1a175342e8>"
      ]
     },
     "execution_count": 46,
     "metadata": {},
     "output_type": "execute_result"
    },
    {
     "data": {
      "image/png": "[encoded data removed]",
      "text/plain": [
       "<Figure size 432x288 with 1 Axes>"
      ]
     },
     "metadata": {},
     "output_type": "display_data"
    }
   ],
   "source": [
    "# example of a swarm plot using seaborn\n",
    "sns.swarmplot(\n",
    "    x=\"REGION\", \n",
    "    y=\"ILITOTAL\",\n",
    "    data=df1.query(f'REGION == {regions}')\n",
    ")"
   ]
  },
  {
   "cell_type": "code",
   "execution_count": 47,
   "metadata": {},
   "outputs": [
    {
     "data": {
      "text/plain": [
       "<matplotlib.axes._subplots.AxesSubplot at 0x1a17791c88>"
      ]
     },
     "execution_count": 47,
     "metadata": {},
     "output_type": "execute_result"
    },
    {
     "data": {
      "image/png": "[encoded data removed]",
      "text/plain": [
       "<Figure size 432x288 with 1 Axes>"
      ]
     },
     "metadata": {},
     "output_type": "display_data"
    }
   ],
   "source": [
    "# example of a violin plot using seaborn\n",
    "sns.violinplot(x=\"REGION\", y=\"ILITOTAL\",\n",
    "               data=df1.query(f'REGION == {regions}'))"
   ]
  },
  {
   "cell_type": "markdown",
   "metadata": {},
   "source": [
    "# Final Notes\n",
    "![xkcd](https://imgs.xkcd.com/comics/is_it_worth_the_time_2x.png)"
   ]
  }
 ],
 "metadata": {
  "kernelspec": {
   "display_name": "Python 3",
   "language": "python",
   "name": "python3"
  },
  "language_info": {
   "codemirror_mode": {
    "name": "ipython",
    "version": 3
   },
   "file_extension": ".py",
   "mimetype": "text/x-python",
   "name": "python",
   "nbconvert_exporter": "python",
   "pygments_lexer": "ipython3",
   "version": "3.6.5"
  }
 },
 "nbformat": 4,
 "nbformat_minor": 2
}
